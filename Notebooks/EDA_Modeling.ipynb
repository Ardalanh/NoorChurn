{
 "cells": [
  {
   "cell_type": "markdown",
   "id": "6ecff514-b406-4ee1-99ed-31c3f6b6a123",
   "metadata": {
    "tags": []
   },
   "source": [
    "# Import and Loadings"
   ]
  },
  {
   "cell_type": "code",
   "execution_count": null,
   "id": "55f2dda9-3ab8-4b21-a48f-356e4d7c5602",
   "metadata": {},
   "outputs": [],
   "source": [
    "import pandas as pd\n",
    "import numpy as np\n",
    "import seaborn as sns\n",
    "import matplotlib.pyplot as plt"
   ]
  },
  {
   "cell_type": "code",
   "execution_count": null,
   "id": "37c8c99c-62e4-48d3-b2f5-f983400e564f",
   "metadata": {
    "jupyter": {
     "source_hidden": true
    },
    "tags": []
   },
   "outputs": [],
   "source": [
    "style_dict={\n",
    "    'axes.facecolor': '#49515f',\n",
    "    'axes.edgecolor': 'white',\n",
    "    'axes.grid': True,\n",
    "    'axes.axisbelow': True,\n",
    "    'axes.labelcolor': 'white',\n",
    "    'figure.facecolor': '#49515f',\n",
    "    'grid.color': 'white',\n",
    "    'grid.linestyle': '-',\n",
    "    'text.color': 'white',\n",
    "    'xtick.color': 'white',\n",
    "    'ytick.color': 'white',\n",
    "    'lines.solid_capstyle': 'round',\n",
    "    'patch.edgecolor': 'white',\n",
    "    'patch.force_edgecolor': True,\n",
    "    'image.cmap': 'rocket',\n",
    "    'font.sans-serif': ['Arial',\n",
    "      'DejaVu Sans',\n",
    "      'Liberation Sans',\n",
    "      'Bitstream Vera Sans',\n",
    "      'sans-serif'],\n",
    "    'xtick.bottom': False,\n",
    "    'xtick.top': False,\n",
    "    'ytick.left': False,\n",
    "    'ytick.right': False,\n",
    "    'axes.spines.left': False,\n",
    "    'axes.spines.bottom': False,\n",
    "    'axes.spines.right': False,\n",
    "    'axes.spines.top': False\n",
    "}\n",
    "sns.set_style(\"whitegrid\", rc=style_dict)\n"
   ]
  },
  {
   "cell_type": "code",
   "execution_count": null,
   "id": "53c56030-e178-4b82-8d22-307d2040469c",
   "metadata": {},
   "outputs": [],
   "source": [
    "col_info = pd.read_excel(\"dataset.xlsx\", sheet_name=\"Data Dict\", header=1, usecols=[1,2])\n",
    "col_info"
   ]
  },
  {
   "cell_type": "code",
   "execution_count": null,
   "id": "2489f2e4-b212-4f16-ad6d-a51f0b5e8002",
   "metadata": {},
   "outputs": [],
   "source": [
    "df = pd.read_excel(\"dataset.xlsx\", sheet_name=\"dataset\")"
   ]
  },
  {
   "cell_type": "code",
   "execution_count": null,
   "id": "b8916413-3227-4d34-8daf-92d3e8d84763",
   "metadata": {},
   "outputs": [],
   "source": [
    "df.head()"
   ]
  },
  {
   "cell_type": "code",
   "execution_count": null,
   "id": "6f0fd32e-5710-4ffe-8d39-7f1ae22f4def",
   "metadata": {},
   "outputs": [],
   "source": [
    "df.info()"
   ]
  },
  {
   "cell_type": "markdown",
   "id": "b377cc6d-a18e-4d9e-81ee-b62e8b59aa0b",
   "metadata": {
    "tags": []
   },
   "source": [
    "# EDA"
   ]
  },
  {
   "cell_type": "code",
   "execution_count": null,
   "id": "7a74b717-129d-492d-8f80-c800b8fff1cd",
   "metadata": {},
   "outputs": [],
   "source": [
    "print(df[\"Churn\"].value_counts())\n",
    "sns.countplot(data=df, x=\"Churn\")"
   ]
  },
  {
   "cell_type": "markdown",
   "id": "3a9ac65f-681d-4fe8-be13-a2b3109a019d",
   "metadata": {},
   "source": [
    "#### The target value \"Churn\" is inbalance, this is important for us to make decision in data analytics and modeling\n",
    "\n",
    "-----------------"
   ]
  },
  {
   "cell_type": "code",
   "execution_count": null,
   "id": "431d297f-91b6-4f3f-852b-83d209917cca",
   "metadata": {},
   "outputs": [],
   "source": [
    "num_cols = df.select_dtypes(include='number').columns.tolist()\n",
    "\n",
    "fig, axes = plt.subplots(nrows=3, ncols=5, figsize=(18, 9))\n",
    "\n",
    "axes = axes.ravel()\n",
    "\n",
    "for i, col in enumerate(num_cols):\n",
    "    sns.violinplot(ax=axes[i], data=df, y=col)\n",
    "    axes[i].set(title=col.capitalize(), xlabel=col)\n",
    "    axes[i].grid(False)\n",
    "    \n",
    "plt.tight_layout()\n",
    "plt.show()"
   ]
  },
  {
   "cell_type": "markdown",
   "id": "4f8b8b50-8635-4826-bb05-f207bef26bfb",
   "metadata": {},
   "source": [
    "#### I can see that there are outliers in Tenure, Warehousetohome, NumberOfAddress, CouponUsed, DaysSinceLastOrder and CashbackAmount.\n",
    "This is relevant to our choice of model or wether we want to remove these outliers or no.\n",
    "\n",
    "-------------"
   ]
  },
  {
   "cell_type": "code",
   "execution_count": null,
   "id": "64c4202e-323b-4821-b3bb-3b8750dca2ee",
   "metadata": {},
   "outputs": [],
   "source": [
    "num_cols = df.select_dtypes(include='number').columns.tolist()\n",
    "\n",
    "fig, axes = plt.subplots(nrows=3, ncols=5, figsize=(18, 9))\n",
    "\n",
    "axes = axes.ravel()\n",
    "\n",
    "for i, col in enumerate(num_cols):\n",
    "    sns.kdeplot(ax=axes[i], data=df, x=col, hue=\"Churn\", common_norm=False, warn_singular=False)\n",
    "    axes[i].set(title=col.capitalize(), xlabel=col)\n",
    "    axes[i].grid(False)\n",
    "plt.tight_layout()\n",
    "plt.show()"
   ]
  },
  {
   "cell_type": "markdown",
   "id": "395504d3-5d98-494a-a944-cedf345012bc",
   "metadata": {},
   "source": [
    "#### Here we can see that there is noticable difference between people who churned and who didn't.\n",
    "Here we can see Tenure is our first candidate for the best predictor of churn.\n",
    "The second best predictor seems to the Complain column.\n",
    "Following those columns, SatisfactionScore and CityTier seem to show some information about churn.\n",
    "----------"
   ]
  },
  {
   "cell_type": "code",
   "execution_count": null,
   "id": "72f9bbfb-995b-4d45-8231-e1ebb4a26158",
   "metadata": {},
   "outputs": [],
   "source": [
    "sns.heatmap(df[num_cols].drop(\"CustomerID\", axis=1).corr(), vmin=-1, vmax=1, cmap=\"vlag\")"
   ]
  },
  {
   "cell_type": "markdown",
   "id": "1723cb25-539b-456d-abfa-686e79afb9df",
   "metadata": {},
   "source": [
    "#### There arenn't strongly correlated columns with Churn, as I have mentioned the biggest ones seem to be Tenure and Complain.\n",
    "We also see few columns to be correlated with each other which affects our choice of model.\n",
    "\n",
    "-----------"
   ]
  },
  {
   "cell_type": "code",
   "execution_count": null,
   "id": "0c1469bd-9241-4af9-9835-770fca4776a0",
   "metadata": {
    "tags": []
   },
   "outputs": [],
   "source": [
    "cat_cols = df.select_dtypes(exclude='number').columns.tolist()\n",
    "cat_cols.append(\"Churn\")\n",
    "fig, axes = plt.subplots(nrows=2, ncols=3, figsize=(18, 9))\n",
    "\n",
    "axes = axes.ravel()\n",
    "\n",
    "for i, col in enumerate(cat_cols):\n",
    "    sns.histplot(ax=axes[i], data=df, x=col, stat=\"percent\", common_norm=False, hue=\"Churn\")\n",
    "    axes[i].set(title=col.capitalize(), xlabel=col)\n",
    "    axes[i].grid(False)\n",
    "plt.tight_layout()\n",
    "plt.show()"
   ]
  },
  {
   "cell_type": "markdown",
   "id": "5d336e5c-33e7-4e88-94d9-8bc1f178dff3",
   "metadata": {},
   "source": [
    "#### We see here that few categories from PreferredOrderCat, Marital Status and PreferredPaymentMonde columns are correlated with Churn\n",
    "Also I'm noticing few duplicated categories in PreferredLoginDevice and PrefredOrderCat\n",
    "\n",
    "-------------"
   ]
  },
  {
   "cell_type": "code",
   "execution_count": null,
   "id": "fbe59264-797a-4dcd-8df0-0131e8db294f",
   "metadata": {},
   "outputs": [],
   "source": [
    "fig, axes = plt.subplots(nrows=1, ncols=2, figsize=(15, 3))\n",
    "axes = axes.ravel()\n",
    "\n",
    "sns.heatmap(df.isna(), vmin=-1, vmax=1, cmap=\"vlag\", ax=axes[0])\n",
    "n_cols = df.shape[1]\n",
    "axes[0].vlines(range(1, n_cols), *axes[0].get_ylim(), colors='grey', linewidths=1)\n",
    "axes[0].set_yticks([])\n",
    "axes[0].tick_params(labeltop=True, labelbottom=False)\n",
    "res = axes[0].set_xticklabels(axes[0].get_xticklabels(), rotation=85)\n",
    "axes[0].set_title(\"Random order\")\n",
    "\n",
    "axes[1] = sns.heatmap(df.sort_values(\"CashbackAmount\").isna(), vmin=-1, vmax=1, cmap=\"vlag\", ax=axes[1])\n",
    "n_cols = df.shape[1]\n",
    "axes[1].vlines(range(1, n_cols), *axes[1].get_ylim(), colors='grey', linewidths=1)\n",
    "axes[1].set_yticks([])\n",
    "axes[1].tick_params(labeltop=True, labelbottom=False)\n",
    "res = axes[1].set_xticklabels(axes[1].get_xticklabels(), rotation=85)\n",
    "axes[1].set_title(\"Sorted by CashbackAmount\")"
   ]
  },
  {
   "cell_type": "markdown",
   "id": "20199f32-ce49-4d9d-a9ef-b98088f0efb6",
   "metadata": {},
   "source": [
    "#### Here I can see that initially it seems that the missing values are completely at random but after closely analyzing the missing values I figured that if I sorted the data by CashbackAMount, we can see it's not completely at Random\n",
    "\n",
    "I tried to understand if these missing values are random or not, and since I don't have the context where and how this data was collected and what each column is exactly referring to I can't make better judgement on the type of missing data, I'm going to treat this as missing at random.\n",
    "\n",
    "Although missing in the churn column is seems is completely at random"
   ]
  },
  {
   "cell_type": "markdown",
   "id": "cab12fed-87c4-4285-b0fb-a47c30502802",
   "metadata": {
    "tags": []
   },
   "source": [
    "# Preprocessing"
   ]
  },
  {
   "cell_type": "markdown",
   "id": "42094401-35c0-4d32-ae54-45eac18be51b",
   "metadata": {
    "tags": []
   },
   "source": [
    "## Imports"
   ]
  },
  {
   "cell_type": "code",
   "execution_count": null,
   "id": "b963eb18-3069-4a5c-b908-8fd02f8af75a",
   "metadata": {},
   "outputs": [],
   "source": [
    "from sklearn.preprocessing import StandardScaler, OneHotEncoder\n",
    "from sklearn.model_selection import train_test_split\n",
    "from sklearn.compose import ColumnTransformer\n",
    "from sklearn.impute import SimpleImputer\n",
    "from sklearn.pipeline import Pipeline"
   ]
  },
  {
   "cell_type": "markdown",
   "id": "0513daff-6ae9-408f-b64b-022669b11123",
   "metadata": {},
   "source": [
    "# Missing Value"
   ]
  },
  {
   "cell_type": "markdown",
   "id": "79c33aef-cc94-4e40-b028-2a7bbd3a8444",
   "metadata": {
    "tags": []
   },
   "source": [
    "## Na Churns\n",
    "\n",
    "Since there are rows that column Churn is na, I can't use those rows in classification, so I'm going to save remove those rows from data and use them for later in non classification modelings"
   ]
  },
  {
   "cell_type": "code",
   "execution_count": null,
   "id": "2b0af4ad-2872-431b-9b60-31f419adac2f",
   "metadata": {},
   "outputs": [],
   "source": [
    "df = df[~df[\"Churn\"].isna()]"
   ]
  },
  {
   "cell_type": "markdown",
   "id": "9e544fe0-1fe6-4e29-9b9c-825399bf5869",
   "metadata": {},
   "source": [
    "## Train Test Split"
   ]
  },
  {
   "cell_type": "code",
   "execution_count": null,
   "id": "4223c308-6c13-479d-854f-653c162c9ae8",
   "metadata": {},
   "outputs": [],
   "source": [
    "df.set_index(\"CustomerID\", drop=True, inplace=True)\n",
    "df.drop_duplicates()\n",
    "X = df.drop(\"Churn\", axis=1)\n",
    "y = df[\"Churn\"]\n",
    "X_train, X_test, y_train, y_test = train_test_split(X, y, test_size=0.1, random_state=42)"
   ]
  },
  {
   "cell_type": "code",
   "execution_count": null,
   "id": "2ee06dad-67a9-4452-83a1-c026cb4ccf60",
   "metadata": {},
   "outputs": [],
   "source": [
    "numeric_cols = ['Tenure', 'WarehouseToHome', 'HourSpendOnApp', 'NumberOfDeviceRegistered',\n",
    "                'SatisfactionScore', 'NumberOfAddress', 'OrderAmountHikeFromlastYear',\n",
    "                'CouponUsed', 'OrderCount', 'DaySinceLastOrder', 'CashbackAmount']"
   ]
  },
  {
   "cell_type": "code",
   "execution_count": null,
   "id": "27377891-dc36-48c8-a7c7-3d4040e015c1",
   "metadata": {},
   "outputs": [],
   "source": [
    "categoric_cols = ['PreferredLoginDevice', 'PreferredPaymentMode', 'Gender',\n",
    "                  'PreferedOrderCat', 'MaritalStatus', 'CityTier', 'Complain']"
   ]
  },
  {
   "cell_type": "markdown",
   "id": "fe9c7aef-03ff-403f-91d1-2643a2f0d2fc",
   "metadata": {
    "tags": []
   },
   "source": [
    "## Data Imputation"
   ]
  },
  {
   "cell_type": "code",
   "execution_count": null,
   "id": "72dc8c6c-3e44-494b-afd6-c256d6bd2c42",
   "metadata": {},
   "outputs": [],
   "source": [
    "class CategoryTransformer:\n",
    "    def __init__(self, maps, col_name):\n",
    "        self.category_maps = maps\n",
    "        self.col_name = col_name\n",
    "        \n",
    "    def transform(self, X, **transform_params):\n",
    "        for key, val in self.category_maps.items():\n",
    "            X[self.col_name].replace(key, val, inplace=True)\n",
    "        return X\n",
    "    \n",
    "    def fit(self, X, y= None, **fit_params):\n",
    "        return self\n",
    "    \n",
    "    def fit_transform(self, X, y= None, **fit_params):\n",
    "        self.fit(X, y, **fit_params)\n",
    "        return self.transform(X)"
   ]
  },
  {
   "cell_type": "code",
   "execution_count": null,
   "id": "b3256c8f-ed65-4cb9-a854-30d694947437",
   "metadata": {},
   "outputs": [],
   "source": [
    "PreferredLoginDeviceTransformer = CategoryTransformer({\"Phone\": \"Mobile Phone\"}, \"PreferredLoginDevice\")\n",
    "PreferedOrderCatTransformer = CategoryTransformer({\"Mobile\": \"Mobile Phone\"}, \"PreferedOrderCat\")"
   ]
  },
  {
   "cell_type": "code",
   "execution_count": null,
   "id": "60aae8bb-511d-403a-a092-111bba405b8d",
   "metadata": {},
   "outputs": [],
   "source": [
    "CategoicTransformer = Pipeline([('prefered_order_cat_transformer', PreferedOrderCatTransformer),\n",
    "                             ('preferred_login_device_transformer', PreferredLoginDeviceTransformer),\n",
    "                             ('frequent_imputer_categoric', SimpleImputer(strategy=\"most_frequent\")),\n",
    "                             ('onehot_encoding_categoric', OneHotEncoder(drop=\"first\"))])\n",
    "NumericTransformer = Pipeline([('median_imputer_numeric', SimpleImputer(strategy=\"median\"))])"
   ]
  },
  {
   "cell_type": "code",
   "execution_count": null,
   "id": "b4e49212-7f74-4e53-8a45-b46ddf83e3ff",
   "metadata": {},
   "outputs": [],
   "source": [
    "transformers = ColumnTransformer([('numerical_transformer', NumericTransformer, numeric_cols),\n",
    "                                  ('categorical_transformer', CategoicTransformer, categoric_cols)])"
   ]
  },
  {
   "cell_type": "code",
   "execution_count": null,
   "id": "82c8fc48-229e-4160-8cb7-898672b80f13",
   "metadata": {},
   "outputs": [],
   "source": [
    "transformers"
   ]
  },
  {
   "cell_type": "markdown",
   "id": "e75fbe04-e83a-46f3-a2b2-05a79db8b686",
   "metadata": {},
   "source": [
    "# Modeling"
   ]
  },
  {
   "cell_type": "code",
   "execution_count": null,
   "id": "a375e236-21b3-4ece-ba83-7010cfb25074",
   "metadata": {},
   "outputs": [],
   "source": [
    "from sklearn.ensemble import RandomForestClassifier\n",
    "from sklearn.metrics import classification_report, f1_score, make_scorer\n",
    "from sklearn.model_selection import GridSearchCV"
   ]
  },
  {
   "cell_type": "code",
   "execution_count": null,
   "id": "192d1c8c-1ccc-4d2a-bd28-06c820e6f15f",
   "metadata": {},
   "outputs": [],
   "source": [
    "params_grid = {'clf__n_estimators': [100, 250, 500],\n",
    "               'clf__max_features': ['log2', 'sqrt'],\n",
    "               'clf__max_depth': [10, 50, 100, None],\n",
    "               'clf__min_samples_split': [1, 2, 4],\n",
    "               'clf__min_samples_leaf': [2, 5, 10],\n",
    "               'clf__bootstrap': [True, False],\n",
    "               'clf__class_weight': ['balanced']}"
   ]
  },
  {
   "cell_type": "code",
   "execution_count": null,
   "id": "7dd5aac6-87f6-4d13-a6f5-d4480b13769c",
   "metadata": {},
   "outputs": [],
   "source": [
    "pipeline = Pipeline(steps=[(\"preprocessing\", transformers), (\"clf\", RandomForestClassifier())])"
   ]
  },
  {
   "cell_type": "code",
   "execution_count": null,
   "id": "34086c55-1eb4-44f1-ad4c-82960898f7a9",
   "metadata": {},
   "outputs": [],
   "source": [
    "clf_search = GridSearchCV(pipeline, param_grid=params_grid, scoring=make_scorer(f1_score , average='macro'), n_jobs=1, verbose=1, cv=2)"
   ]
  },
  {
   "cell_type": "code",
   "execution_count": null,
   "id": "aa77cf56-7753-415b-9d25-ec8c0a4054aa",
   "metadata": {},
   "outputs": [],
   "source": [
    "clf_search.fit(X_train, y_train)"
   ]
  },
  {
   "cell_type": "code",
   "execution_count": null,
   "id": "14da3fe3-d131-446b-82e0-41c7d8e156ed",
   "metadata": {},
   "outputs": [],
   "source": [
    "clf_search.best_params_"
   ]
  },
  {
   "cell_type": "code",
   "execution_count": null,
   "id": "e6e2f006-316a-4f9d-acc6-8b8ecbebb988",
   "metadata": {},
   "outputs": [],
   "source": [
    "best_clf = clf_search.best_estimator_"
   ]
  },
  {
   "cell_type": "code",
   "execution_count": null,
   "id": "630be725-9f9e-4d3e-9e89-4c2559f58f96",
   "metadata": {},
   "outputs": [],
   "source": [
    "best_clf = load(\"clf3.joblib\")"
   ]
  },
  {
   "cell_type": "code",
   "execution_count": null,
   "id": "236c0af1-dcb1-4103-8cfc-6e1c7cd05422",
   "metadata": {
    "tags": []
   },
   "outputs": [],
   "source": [
    "print(classification_report(y_test, best_clf.predict(X_test)))"
   ]
  },
  {
   "cell_type": "code",
   "execution_count": null,
   "id": "e4e95d75-9f97-4771-a548-588ca70608a7",
   "metadata": {},
   "outputs": [],
   "source": [
    "cols = numeric_cols + ['PreferredLoginDevice_Mobile Phone',\n",
    "                       'PreferredPaymentMode_COD',\n",
    "                       'PreferredPaymentMode_Cash on Delivery',\n",
    "                       'PreferredPaymentMode_Credit Card',\n",
    "                       'PreferredPaymentMode_Debit Card',\n",
    "                       'PreferredPaymentMode_E wallet',\n",
    "                       'PreferredPaymentMode_UPI',\n",
    "                       'Gender_Male',\n",
    "                       'PreferedOrderCat_Grocery',\n",
    "                       'PreferedOrderCat_Laptop & Accessory',\n",
    "                       'PreferedOrderCat_Mobile Phone',\n",
    "                       'PreferedOrderCat_Others',\n",
    "                       'MaritalStatus_Married',\n",
    "                       'MaritalStatus_Single',\n",
    "                       'CityTier_2',\n",
    "                       'CityTier_3',\n",
    "                       'Complain_1']"
   ]
  },
  {
   "cell_type": "code",
   "execution_count": null,
   "id": "f6947021-c6b4-4256-857f-4c11582dcb11",
   "metadata": {},
   "outputs": [],
   "source": [
    "feature_importance = pd.DataFrame(best_clf[1].feature_importances_, columns=['importance'])\n",
    "feature_importance['features'] = cols\n",
    "\n",
    "plt.figure(figsize=(10,8))\n",
    "sns.barplot(x='importance', y='features', data=feature_importance.sort_values(by='importance', ascending=False))\n",
    "plt.title('Feature importances')\n",
    "plt.show()"
   ]
  },
  {
   "cell_type": "code",
   "execution_count": null,
   "id": "7465c3e9-4a82-445c-8746-81ef17a6b43a",
   "metadata": {},
   "outputs": [],
   "source": [
    "from joblib import dump"
   ]
  },
  {
   "cell_type": "code",
   "execution_count": null,
   "id": "34585c06-52a0-4a00-87c6-e3e7767a63f2",
   "metadata": {},
   "outputs": [],
   "source": [
    "dump(best_clf, \"clf.joblib\")"
   ]
  },
  {
   "cell_type": "code",
   "execution_count": null,
   "id": "7097717d-e761-4b2a-9fdd-abd090f3fa4c",
   "metadata": {},
   "outputs": [],
   "source": []
  }
 ],
 "metadata": {
  "kernelspec": {
   "display_name": "Python 3 (ipykernel)",
   "language": "python",
   "name": "python3"
  },
  "language_info": {
   "codemirror_mode": {
    "name": "ipython",
    "version": 3
   },
   "file_extension": ".py",
   "mimetype": "text/x-python",
   "name": "python",
   "nbconvert_exporter": "python",
   "pygments_lexer": "ipython3",
   "version": "3.11.0"
  }
 },
 "nbformat": 4,
 "nbformat_minor": 5
}
